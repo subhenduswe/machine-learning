{
 "cells": [
  {
   "cell_type": "code",
   "execution_count": 58,
   "id": "67b1383e",
   "metadata": {},
   "outputs": [],
   "source": [
    "import numpy as np\n",
    "import pandas as pd"
   ]
  },
  {
   "cell_type": "code",
   "execution_count": 2,
   "id": "e13fdd32",
   "metadata": {},
   "outputs": [],
   "source": [
    "email = 'subhendu@email.com'"
   ]
  },
  {
   "cell_type": "code",
   "execution_count": 3,
   "id": "4daae8f8",
   "metadata": {},
   "outputs": [
    {
     "data": {
      "text/plain": [
       "['subhendu', 'email.com']"
      ]
     },
     "execution_count": 3,
     "metadata": {},
     "output_type": "execute_result"
    }
   ],
   "source": [
    "email.split('@')"
   ]
  },
  {
   "cell_type": "code",
   "execution_count": 5,
   "id": "60ec9192",
   "metadata": {},
   "outputs": [],
   "source": [
    "names  = pd.Series(['andrew','bobo','claire','david','5'])"
   ]
  },
  {
   "cell_type": "code",
   "execution_count": 6,
   "id": "ff36e5bd",
   "metadata": {},
   "outputs": [
    {
     "data": {
      "text/plain": [
       "0    andrew\n",
       "1      bobo\n",
       "2    claire\n",
       "3     david\n",
       "4         5\n",
       "dtype: object"
      ]
     },
     "execution_count": 6,
     "metadata": {},
     "output_type": "execute_result"
    }
   ],
   "source": [
    "names"
   ]
  },
  {
   "cell_type": "code",
   "execution_count": 8,
   "id": "73dd8548",
   "metadata": {},
   "outputs": [
    {
     "data": {
      "text/plain": [
       "0    ANDREW\n",
       "1      BOBO\n",
       "2    CLAIRE\n",
       "3     DAVID\n",
       "4         5\n",
       "dtype: object"
      ]
     },
     "execution_count": 8,
     "metadata": {},
     "output_type": "execute_result"
    }
   ],
   "source": [
    "names.str.upper()"
   ]
  },
  {
   "cell_type": "code",
   "execution_count": 10,
   "id": "d1e97cc9",
   "metadata": {},
   "outputs": [
    {
     "data": {
      "text/plain": [
       "False"
      ]
     },
     "execution_count": 10,
     "metadata": {},
     "output_type": "execute_result"
    }
   ],
   "source": [
    "email.isdigit()"
   ]
  },
  {
   "cell_type": "code",
   "execution_count": 11,
   "id": "69160bbd",
   "metadata": {},
   "outputs": [
    {
     "data": {
      "text/plain": [
       "True"
      ]
     },
     "execution_count": 11,
     "metadata": {},
     "output_type": "execute_result"
    }
   ],
   "source": [
    "'5'.isdigit()"
   ]
  },
  {
   "cell_type": "code",
   "execution_count": 12,
   "id": "7db89ff0",
   "metadata": {},
   "outputs": [
    {
     "data": {
      "text/plain": [
       "0    False\n",
       "1    False\n",
       "2    False\n",
       "3    False\n",
       "4     True\n",
       "dtype: bool"
      ]
     },
     "execution_count": 12,
     "metadata": {},
     "output_type": "execute_result"
    }
   ],
   "source": [
    "names.str.isdigit()"
   ]
  },
  {
   "cell_type": "code",
   "execution_count": 13,
   "id": "0dc8138b",
   "metadata": {},
   "outputs": [],
   "source": [
    "tech_finance = ['GOOG,APPL,AMZN','JPM,BAC,GS']"
   ]
  },
  {
   "cell_type": "code",
   "execution_count": 14,
   "id": "c1d43319",
   "metadata": {},
   "outputs": [
    {
     "data": {
      "text/plain": [
       "2"
      ]
     },
     "execution_count": 14,
     "metadata": {},
     "output_type": "execute_result"
    }
   ],
   "source": [
    "len(tech_finance)"
   ]
  },
  {
   "cell_type": "code",
   "execution_count": 16,
   "id": "2c5a971c",
   "metadata": {},
   "outputs": [],
   "source": [
    "tickers = pd.Series(tech_finance)"
   ]
  },
  {
   "cell_type": "code",
   "execution_count": 17,
   "id": "3cbda6af",
   "metadata": {},
   "outputs": [
    {
     "data": {
      "text/plain": [
       "0    GOOG,APPL,AMZN\n",
       "1        JPM,BAC,GS\n",
       "dtype: object"
      ]
     },
     "execution_count": 17,
     "metadata": {},
     "output_type": "execute_result"
    }
   ],
   "source": [
    "tickers"
   ]
  },
  {
   "cell_type": "code",
   "execution_count": 18,
   "id": "6ff7c126",
   "metadata": {},
   "outputs": [
    {
     "data": {
      "text/plain": [
       "0    [GOOG, APPL, AMZN]\n",
       "1        [JPM, BAC, GS]\n",
       "dtype: object"
      ]
     },
     "execution_count": 18,
     "metadata": {},
     "output_type": "execute_result"
    }
   ],
   "source": [
    "tickers.str.split(',')"
   ]
  },
  {
   "cell_type": "code",
   "execution_count": 21,
   "id": "caacc370",
   "metadata": {},
   "outputs": [
    {
     "data": {
      "text/plain": [
       "0    GOOG\n",
       "1     JPM\n",
       "dtype: object"
      ]
     },
     "execution_count": 21,
     "metadata": {},
     "output_type": "execute_result"
    }
   ],
   "source": [
    "tickers.str.split(',').str[0]"
   ]
  },
  {
   "cell_type": "code",
   "execution_count": 19,
   "id": "c3886d17",
   "metadata": {},
   "outputs": [],
   "source": [
    "tech = 'GOOG,APPL,AMZN'"
   ]
  },
  {
   "cell_type": "code",
   "execution_count": 20,
   "id": "e1b8c6db",
   "metadata": {},
   "outputs": [
    {
     "data": {
      "text/plain": [
       "'GOOG'"
      ]
     },
     "execution_count": 20,
     "metadata": {},
     "output_type": "execute_result"
    }
   ],
   "source": [
    "tech.split(',')[0]"
   ]
  },
  {
   "cell_type": "code",
   "execution_count": 22,
   "id": "158e2813",
   "metadata": {},
   "outputs": [
    {
     "data": {
      "text/html": [
       "<div>\n",
       "<style scoped>\n",
       "    .dataframe tbody tr th:only-of-type {\n",
       "        vertical-align: middle;\n",
       "    }\n",
       "\n",
       "    .dataframe tbody tr th {\n",
       "        vertical-align: top;\n",
       "    }\n",
       "\n",
       "    .dataframe thead th {\n",
       "        text-align: right;\n",
       "    }\n",
       "</style>\n",
       "<table border=\"1\" class=\"dataframe\">\n",
       "  <thead>\n",
       "    <tr style=\"text-align: right;\">\n",
       "      <th></th>\n",
       "      <th>0</th>\n",
       "      <th>1</th>\n",
       "      <th>2</th>\n",
       "    </tr>\n",
       "  </thead>\n",
       "  <tbody>\n",
       "    <tr>\n",
       "      <th>0</th>\n",
       "      <td>GOOG</td>\n",
       "      <td>APPL</td>\n",
       "      <td>AMZN</td>\n",
       "    </tr>\n",
       "    <tr>\n",
       "      <th>1</th>\n",
       "      <td>JPM</td>\n",
       "      <td>BAC</td>\n",
       "      <td>GS</td>\n",
       "    </tr>\n",
       "  </tbody>\n",
       "</table>\n",
       "</div>"
      ],
      "text/plain": [
       "      0     1     2\n",
       "0  GOOG  APPL  AMZN\n",
       "1   JPM   BAC    GS"
      ]
     },
     "execution_count": 22,
     "metadata": {},
     "output_type": "execute_result"
    }
   ],
   "source": [
    "tickers.str.split(',',expand=True)"
   ]
  },
  {
   "cell_type": "code",
   "execution_count": 38,
   "id": "2235931d",
   "metadata": {},
   "outputs": [],
   "source": [
    "messy_names = pd.Series([\"andrew \",\"bo;bo\",\"  clarie  \"])"
   ]
  },
  {
   "cell_type": "code",
   "execution_count": 39,
   "id": "e917fb61",
   "metadata": {},
   "outputs": [
    {
     "data": {
      "text/plain": [
       "0       andrew \n",
       "1         bo;bo\n",
       "2      clarie  \n",
       "dtype: object"
      ]
     },
     "execution_count": 39,
     "metadata": {},
     "output_type": "execute_result"
    }
   ],
   "source": [
    "messy_names"
   ]
  },
  {
   "cell_type": "code",
   "execution_count": 40,
   "id": "baf83a1e",
   "metadata": {},
   "outputs": [
    {
     "data": {
      "text/plain": [
       "0       andrew \n",
       "1          bobo\n",
       "2      clarie  \n",
       "dtype: object"
      ]
     },
     "execution_count": 40,
     "metadata": {},
     "output_type": "execute_result"
    }
   ],
   "source": [
    "messy_names.str.replace(';','')"
   ]
  },
  {
   "cell_type": "code",
   "execution_count": 41,
   "id": "1366f9c3",
   "metadata": {},
   "outputs": [
    {
     "data": {
      "text/plain": [
       "0    andrew\n",
       "1      bobo\n",
       "2    clarie\n",
       "dtype: object"
      ]
     },
     "execution_count": 41,
     "metadata": {},
     "output_type": "execute_result"
    }
   ],
   "source": [
    "messy_names.str.replace(';','').str.strip()"
   ]
  },
  {
   "cell_type": "code",
   "execution_count": 42,
   "id": "f026a84f",
   "metadata": {},
   "outputs": [
    {
     "data": {
      "text/plain": [
       "'andrew'"
      ]
     },
     "execution_count": 42,
     "metadata": {},
     "output_type": "execute_result"
    }
   ],
   "source": [
    "messy_names.str.replace(';','').str.strip()[0]"
   ]
  },
  {
   "cell_type": "code",
   "execution_count": 43,
   "id": "1e593d05",
   "metadata": {},
   "outputs": [
    {
     "data": {
      "text/plain": [
       "0    Andrew\n",
       "1      Bobo\n",
       "2    Clarie\n",
       "dtype: object"
      ]
     },
     "execution_count": 43,
     "metadata": {},
     "output_type": "execute_result"
    }
   ],
   "source": [
    "messy_names.str.replace(';','').str.strip().str.capitalize()"
   ]
  },
  {
   "cell_type": "code",
   "execution_count": 44,
   "id": "7b36e73b",
   "metadata": {},
   "outputs": [],
   "source": [
    "def cleanup(name):\n",
    "    name = name.replace(\";\",\"\")\n",
    "    name = name.strip()\n",
    "    name = name.capitalize()\n",
    "    return name"
   ]
  },
  {
   "cell_type": "code",
   "execution_count": 45,
   "id": "f78b1567",
   "metadata": {},
   "outputs": [
    {
     "data": {
      "text/plain": [
       "0    Andrew\n",
       "1      Bobo\n",
       "2    Clarie\n",
       "dtype: object"
      ]
     },
     "execution_count": 45,
     "metadata": {},
     "output_type": "execute_result"
    }
   ],
   "source": [
    "messy_names.apply(cleanup)"
   ]
  },
  {
   "cell_type": "code",
   "execution_count": 59,
   "id": "3607b195",
   "metadata": {},
   "outputs": [],
   "source": [
    "import timeit\n",
    "\n",
    "# code snippet to be execute only once\n",
    "setup = '''\n",
    "import pandas as pd\n",
    "import numpy as np\n",
    "messy_names = pd.Series(['andrew ','bo;bo',\"  clarie  \"])\n",
    "def cleanup(name):\n",
    "    name = name.replace(\";\",\"\")\n",
    "    name = name.strip()\n",
    "    name = name.capitalize()\n",
    "    return name\n",
    "'''\n",
    "# code snippet whose execution time is to be measured\n",
    "stmt_pandas_str = '''\n",
    "messy_names.str.replace(';','').str.strip().str.capitalize()\n",
    "'''\n",
    "\n",
    "stmt_pandas_apply = '''\n",
    "messy_names.apply(cleanup)\n",
    "'''\n",
    "\n",
    "stmt_pandas_vectorize = '''\n",
    "np.vectorize(cleanup)(messy_names)\n",
    "'''"
   ]
  },
  {
   "cell_type": "code",
   "execution_count": 66,
   "id": "c54cec20",
   "metadata": {},
   "outputs": [
    {
     "data": {
      "text/plain": [
       "1.790559300003224"
      ]
     },
     "execution_count": 66,
     "metadata": {},
     "output_type": "execute_result"
    }
   ],
   "source": [
    "timeit.timeit(setup = setup,\n",
    "             stmt = stmt_pandas_str,\n",
    "             number = 10000)"
   ]
  },
  {
   "cell_type": "code",
   "execution_count": 67,
   "id": "4f45cd17",
   "metadata": {},
   "outputs": [
    {
     "data": {
      "text/plain": [
       "0.6280716999899596"
      ]
     },
     "execution_count": 67,
     "metadata": {},
     "output_type": "execute_result"
    }
   ],
   "source": [
    "timeit.timeit(setup = setup,\n",
    "             stmt = stmt_pandas_apply,\n",
    "             number = 10000)"
   ]
  },
  {
   "cell_type": "code",
   "execution_count": 68,
   "id": "c98f32d9",
   "metadata": {},
   "outputs": [
    {
     "data": {
      "text/plain": [
       "0.1684464999998454"
      ]
     },
     "execution_count": 68,
     "metadata": {},
     "output_type": "execute_result"
    }
   ],
   "source": [
    "timeit.timeit(setup = setup,\n",
    "             stmt = stmt_pandas_vectorize,\n",
    "             number = 10000)"
   ]
  },
  {
   "cell_type": "code",
   "execution_count": null,
   "id": "a586a95b",
   "metadata": {},
   "outputs": [],
   "source": []
  }
 ],
 "metadata": {
  "kernelspec": {
   "display_name": "Python 3 (ipykernel)",
   "language": "python",
   "name": "python3"
  },
  "language_info": {
   "codemirror_mode": {
    "name": "ipython",
    "version": 3
   },
   "file_extension": ".py",
   "mimetype": "text/x-python",
   "name": "python",
   "nbconvert_exporter": "python",
   "pygments_lexer": "ipython3",
   "version": "3.11.3"
  }
 },
 "nbformat": 4,
 "nbformat_minor": 5
}
